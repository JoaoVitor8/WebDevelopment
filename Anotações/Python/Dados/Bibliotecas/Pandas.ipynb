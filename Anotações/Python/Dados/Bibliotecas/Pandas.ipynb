{
 "cells": [
  {
   "cell_type": "code",
   "execution_count": 1,
   "id": "50119237",
   "metadata": {},
   "outputs": [],
   "source": [
    "import pandas as pd"
   ]
  },
  {
   "cell_type": "code",
   "execution_count": 2,
   "id": "05f722f7",
   "metadata": {},
   "outputs": [],
   "source": [
    "## Tranformando uma lista do Python em uma Serie do Pandas\n",
    "lista = [12, 23, 34, 45, 56, 67]\n",
    "\n",
    "seriePandas = pd.Series(lista)"
   ]
  },
  {
   "cell_type": "code",
   "execution_count": 3,
   "id": "68ffdddd",
   "metadata": {},
   "outputs": [
    {
     "name": "stdout",
     "output_type": "stream",
     "text": [
      "45\n"
     ]
    }
   ],
   "source": [
    "print(seriePandas[3])"
   ]
  },
  {
   "cell_type": "code",
   "execution_count": 4,
   "id": "08519ed0",
   "metadata": {},
   "outputs": [],
   "source": [
    "## Tranformando um dicionario do Python em uma Serie do Pandas\n",
    "notas = {\"Joao\": 7, \"Mateus\": 2, \"Eduarda\": 9}\n",
    "\n",
    "serieNotas = pd.Series(notas)"
   ]
  },
  {
   "cell_type": "code",
   "execution_count": 5,
   "id": "650a7b5f",
   "metadata": {},
   "outputs": [
    {
     "name": "stdout",
     "output_type": "stream",
     "text": [
      "9\n"
     ]
    }
   ],
   "source": [
    "print(serieNotas[\"Eduarda\"])"
   ]
  },
  {
   "cell_type": "code",
   "execution_count": 6,
   "id": "da950551",
   "metadata": {},
   "outputs": [
    {
     "name": "stdout",
     "output_type": "stream",
     "text": [
      "count    3.000000\n",
      "mean     6.000000\n",
      "std      3.605551\n",
      "min      2.000000\n",
      "25%      4.500000\n",
      "50%      7.000000\n",
      "75%      8.000000\n",
      "max      9.000000\n",
      "dtype: float64\n"
     ]
    }
   ],
   "source": [
    "## describe() retorna: Numero total de dados, A media, Valor minimo, Valor maximo, e mais...\n",
    "print(serieNotas.describe())"
   ]
  },
  {
   "cell_type": "code",
   "execution_count": null,
   "id": "ea79ad2c",
   "metadata": {},
   "outputs": [],
   "source": []
  },
  {
   "cell_type": "code",
   "execution_count": null,
   "id": "3b69035e",
   "metadata": {},
   "outputs": [],
   "source": []
  },
  {
   "cell_type": "code",
   "execution_count": null,
   "id": "77486121",
   "metadata": {},
   "outputs": [],
   "source": []
  }
 ],
 "metadata": {
  "kernelspec": {
   "display_name": "Python 3 (ipykernel)",
   "language": "python",
   "name": "python3"
  },
  "language_info": {
   "codemirror_mode": {
    "name": "ipython",
    "version": 3
   },
   "file_extension": ".py",
   "mimetype": "text/x-python",
   "name": "python",
   "nbconvert_exporter": "python",
   "pygments_lexer": "ipython3",
   "version": "3.11.4"
  }
 },
 "nbformat": 4,
 "nbformat_minor": 5
}
