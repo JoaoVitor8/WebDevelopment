{
 "cells": [
  {
   "cell_type": "code",
   "execution_count": 1,
   "id": "fdf432a2",
   "metadata": {},
   "outputs": [],
   "source": [
    "import numpy as np"
   ]
  },
  {
   "cell_type": "code",
   "execution_count": 2,
   "id": "2b52acc7",
   "metadata": {},
   "outputs": [
    {
     "name": "stdout",
     "output_type": "stream",
     "text": [
      "['Yes' 'No' 'Yes' 'No' 'Yes' 'No' 'Yes']\n"
     ]
    }
   ],
   "source": [
    "## Criando um Array no NumPy\n",
    "covidPositive = np.array([\"Yes\", \"No\", \"Yes\", \"No\", \"Yes\", \"No\", \"Yes\"])\n",
    "print(covidPositive)"
   ]
  },
  {
   "cell_type": "code",
   "execution_count": 3,
   "id": "ccd24ab6",
   "metadata": {},
   "outputs": [
    {
     "name": "stdout",
     "output_type": "stream",
     "text": [
      "[ True False  True False  True False  True]\n"
     ]
    }
   ],
   "source": [
    "## Retorna TRUE ou False se o dado estiver no Array\n",
    "mask = (covidPositive == \"Yes\")\n",
    "print(mask)"
   ]
  },
  {
   "cell_type": "code",
   "execution_count": 4,
   "id": "63cf077d",
   "metadata": {},
   "outputs": [
    {
     "name": "stdout",
     "output_type": "stream",
     "text": [
      "['C19' 'No' 'C19' 'No' 'C19' 'No' 'C19']\n"
     ]
    }
   ],
   "source": [
    "## Substituindo os YES/TRUE por C19\n",
    "covidPositive[mask] = \"C19\"\n",
    "print(covidPositive)"
   ]
  },
  {
   "cell_type": "code",
   "execution_count": null,
   "id": "481edd33",
   "metadata": {},
   "outputs": [],
   "source": []
  }
 ],
 "metadata": {
  "kernelspec": {
   "display_name": "Python 3 (ipykernel)",
   "language": "python",
   "name": "python3"
  },
  "language_info": {
   "codemirror_mode": {
    "name": "ipython",
    "version": 3
   },
   "file_extension": ".py",
   "mimetype": "text/x-python",
   "name": "python",
   "nbconvert_exporter": "python",
   "pygments_lexer": "ipython3",
   "version": "3.11.4"
  }
 },
 "nbformat": 4,
 "nbformat_minor": 5
}
