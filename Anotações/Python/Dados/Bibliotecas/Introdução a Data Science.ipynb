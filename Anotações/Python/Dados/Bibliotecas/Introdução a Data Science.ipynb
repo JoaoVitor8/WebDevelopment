{
 "cells": [
  {
   "cell_type": "code",
   "execution_count": 5,
   "id": "bc2e4f8f",
   "metadata": {},
   "outputs": [],
   "source": [
    "import numpy as np\n",
    "import pandas as pd\n",
    "import sklearn\n",
    "import matplotlib"
   ]
  },
  {
   "cell_type": "code",
   "execution_count": 6,
   "id": "4f3dbeab",
   "metadata": {},
   "outputs": [],
   "source": [
    "dados = [\n",
    "    [1, 2, 3, 4, 5],\n",
    "    [12.5, 23.4, 45.6, 78.9, 34.1],\n",
    "    ['Maçã', 'Banana', 'Laranja', 'Pera', 'Uva'],\n",
    "    [100, 200, 300, 400, 500],\n",
    "    [5.5, 6.6, 7.7, 8.8, 9.9],\n",
    "    ['Gato', 'Cachorro', 'Coelho', 'Pássaro', 'Peixe'],\n",
    "    [True, False, True, True, False],\n",
    "    [10, 20, 30, 40, 50],\n",
    "    [3.14, 1.618, 2.718, 0.577, 0.123],\n",
    "    ['Python', 'Java', 'C++', 'JavaScript', 'Ruby']\n",
    "]"
   ]
  },
  {
   "cell_type": "code",
   "execution_count": null,
   "id": "7f5571c1",
   "metadata": {},
   "outputs": [],
   "source": []
  }
 ],
 "metadata": {
  "kernelspec": {
   "display_name": "Python 3 (ipykernel)",
   "language": "python",
   "name": "python3"
  },
  "language_info": {
   "codemirror_mode": {
    "name": "ipython",
    "version": 3
   },
   "file_extension": ".py",
   "mimetype": "text/x-python",
   "name": "python",
   "nbconvert_exporter": "python",
   "pygments_lexer": "ipython3",
   "version": "3.11.4"
  }
 },
 "nbformat": 4,
 "nbformat_minor": 5
}
