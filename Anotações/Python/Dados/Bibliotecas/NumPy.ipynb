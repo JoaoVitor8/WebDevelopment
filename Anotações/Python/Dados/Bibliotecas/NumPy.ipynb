{
 "cells": [
  {
   "cell_type": "code",
   "execution_count": 1,
   "id": "bc2e4f8f",
   "metadata": {},
   "outputs": [],
   "source": [
    "import numpy as np"
   ]
  },
  {
   "cell_type": "code",
   "execution_count": 2,
   "id": "4f3dbeab",
   "metadata": {},
   "outputs": [],
   "source": [
    "## Tranformando uma lista do Python em um Array do NumPy\n",
    "lista = [1, 2, 3, 4, 5, 6, 7]\n",
    "\n",
    "array = np.array(lista)"
   ]
  },
  {
   "cell_type": "code",
   "execution_count": 3,
   "id": "7f5571c1",
   "metadata": {
    "scrolled": true
   },
   "outputs": [
    {
     "name": "stdout",
     "output_type": "stream",
     "text": [
      "[1, 2, 3, 4, 5, 6, 7]\n",
      "[1 2 3 4 5 6 7]\n",
      "<class 'list'>\n",
      "<class 'numpy.ndarray'>\n"
     ]
    }
   ],
   "source": [
    "print(lista)\n",
    "print(array)\n",
    "\n",
    "print(type(lista))\n",
    "print(type(array))"
   ]
  },
  {
   "cell_type": "code",
   "execution_count": 4,
   "id": "9552f796",
   "metadata": {},
   "outputs": [
    {
     "name": "stdout",
     "output_type": "stream",
     "text": [
      "[0. 0. 0. 0. 0. 0. 0. 0. 0. 0.]\n"
     ]
    }
   ],
   "source": [
    "## Array de Zeros\n",
    "arrayZeros = np.zeros(10)\n",
    "\n",
    "print(arrayZeros)"
   ]
  },
  {
   "cell_type": "code",
   "execution_count": 5,
   "id": "56729f25",
   "metadata": {},
   "outputs": [
    {
     "name": "stdout",
     "output_type": "stream",
     "text": [
      "[9 2 3 4 5 6 7]\n"
     ]
    }
   ],
   "source": [
    "## Mundando o valor de um Array\n",
    "array[0] = 9\n",
    "print(array)"
   ]
  },
  {
   "cell_type": "code",
   "execution_count": 6,
   "id": "aa323563",
   "metadata": {},
   "outputs": [
    {
     "name": "stdout",
     "output_type": "stream",
     "text": [
      "[[0. 0. 0.]\n",
      " [0. 0. 0.]\n",
      " [0. 0. 0.]\n",
      " [0. 0. 0.]\n",
      " [0. 0. 0.]]\n"
     ]
    }
   ],
   "source": [
    "## Criando uma matriz de zeros\n",
    "matrizZeros = np.zeros((5, 3))\n",
    "print(matrizZeros)"
   ]
  },
  {
   "cell_type": "code",
   "execution_count": 7,
   "id": "b276e739",
   "metadata": {},
   "outputs": [
    {
     "name": "stdout",
     "output_type": "stream",
     "text": [
      "9\n",
      "2\n",
      "2.231499907401901\n",
      "5.142857142857143\n",
      "0\n",
      "1\n"
     ]
    }
   ],
   "source": [
    "print(array.max()) ## Pegando o valor mais alto\n",
    "print(array.min()) ## Pegando o valor mais baixo\n",
    "print(array.std()) ## \n",
    "print(array.mean()) ## Pegando o valor a media dos valores\n",
    "print(array.argmax()) ## Mostra aonde a valor mais alto esta\n",
    "print(array.argmin()) ## ## Mostra aonde a valor mais baixo esta"
   ]
  },
  {
   "cell_type": "code",
   "execution_count": null,
   "id": "d6c7e50c",
   "metadata": {},
   "outputs": [],
   "source": []
  },
  {
   "cell_type": "code",
   "execution_count": null,
   "id": "587d8fde",
   "metadata": {},
   "outputs": [],
   "source": []
  },
  {
   "cell_type": "code",
   "execution_count": 8,
   "id": "7974e007",
   "metadata": {},
   "outputs": [
    {
     "name": "stdout",
     "output_type": "stream",
     "text": [
      "['Yes' 'No' 'Yes' 'No' 'Yes' 'No' 'Yes']\n"
     ]
    }
   ],
   "source": [
    "## Criando um Array no NumPy\n",
    "covidPositive = np.array([\"Yes\", \"No\", \"Yes\", \"No\", \"Yes\", \"No\", \"Yes\"])\n",
    "print(covidPositive)"
   ]
  },
  {
   "cell_type": "code",
   "execution_count": 9,
   "id": "03626d0e",
   "metadata": {},
   "outputs": [
    {
     "name": "stdout",
     "output_type": "stream",
     "text": [
      "[ True False  True False  True False  True]\n"
     ]
    }
   ],
   "source": [
    "## Retorna TRUE ou False se o dado estiver no Array\n",
    "mask = (covidPositive == \"Yes\")\n",
    "print(mask)"
   ]
  },
  {
   "cell_type": "code",
   "execution_count": 10,
   "id": "e111fb9d",
   "metadata": {},
   "outputs": [
    {
     "name": "stdout",
     "output_type": "stream",
     "text": [
      "['C19' 'No' 'C19' 'No' 'C19' 'No' 'C19']\n"
     ]
    }
   ],
   "source": [
    "## Substituindo os YES/TRUE por C19\n",
    "covidPositive[mask] = \"C19\"\n",
    "print(covidPositive)"
   ]
  },
  {
   "cell_type": "code",
   "execution_count": null,
   "id": "91db194d",
   "metadata": {},
   "outputs": [],
   "source": []
  }
 ],
 "metadata": {
  "kernelspec": {
   "display_name": "Python 3 (ipykernel)",
   "language": "python",
   "name": "python3"
  },
  "language_info": {
   "codemirror_mode": {
    "name": "ipython",
    "version": 3
   },
   "file_extension": ".py",
   "mimetype": "text/x-python",
   "name": "python",
   "nbconvert_exporter": "python",
   "pygments_lexer": "ipython3",
   "version": "3.11.4"
  }
 },
 "nbformat": 4,
 "nbformat_minor": 5
}
